{
 "cells": [
  {
   "metadata": {},
   "cell_type": "markdown",
   "source": [
    "<p style=\"text-align:center\">\n",
    "    <a href=\"https://skills.network/?utm_medium=Exinfluencer&utm_source=Exinfluencer&utm_content=000026UJ&utm_term=10006555&utm_id=NA-SkillsNetwork-Channel-SkillsNetworkCoursesIBMDeveloperSkillsNetworkPY0220ENSkillsNetwork900-2022-01-01\" target=\"_blank\">\n",
    "    <img src=\"https://cf-courses-data.s3.us.cloud-object-storage.appdomain.cloud/assets/logos/SN_web_lightmode.png\" width=\"200\" alt=\"Skills Network Logo\">\n",
    "    </a>\n",
    "</p>\n"
   ]
  },
  {
   "metadata": {},
   "cell_type": "markdown",
   "source": [
    "<h1>Extracting and Visualizing Stock Data</h1>\n",
    "<h2>Description</h2>\n"
   ]
  },
  {
   "metadata": {},
   "cell_type": "markdown",
   "source": [
    "Extracting essential data from a dataset and displaying it is a necessary part of data science; therefore individuals can make correct decisions based on the data. In this assignment, you will extract some stock data, you will then display this data in a graph.\n"
   ]
  },
  {
   "metadata": {},
   "cell_type": "markdown",
   "source": [
    "<h2>Table of Contents</h2>\n",
    "<div class=\"alert alert-block alert-info\" style=\"margin-top: 20px\">\n",
    "    <ul>\n",
    "        <li>Define a Function that Makes a Graph</li>\n",
    "        <li>Question 1: Use yfinance to Extract Stock Data</li>\n",
    "        <li>Question 2: Use Webscraping to Extract Tesla Revenue Data</li>\n",
    "        <li>Question 3: Use yfinance to Extract Stock Data</li>\n",
    "        <li>Question 4: Use Webscraping to Extract GME Revenue Data</li>\n",
    "        <li>Question 5: Plot Tesla Stock Graph</li>\n",
    "        <li>Question 6: Plot GameStop Stock Graph</li>\n",
    "    </ul>\n",
    "<p>\n",
    "    Estimated Time Needed: <strong>30 min</strong></p>\n",
    "</div>\n",
    "\n",
    "<hr>\n"
   ]
  },
  {
   "metadata": {},
   "cell_type": "markdown",
   "source": [
    "***Note***:- If you are working in IBM Cloud Watson Studio, please replace the command for installing nbformat from `!pip install nbformat==4.2.0` to simply `!pip install nbformat`\n"
   ]
  },
  {
   "metadata": {},
   "cell_type": "code",
   "source": [
    "!pip install yfinance==0.1.67\n",
    "!mamba install bs4==4.10.0 -y\n",
    "!pip install nbformat==4.2.0"
   ],
   "execution_count": 9,
   "outputs": [
    {
     "output_type": "stream",
     "text": "Requirement already satisfied: yfinance==0.1.67 in /opt/conda/envs/Python-RT23.1/lib/python3.10/site-packages (0.1.67)\nRequirement already satisfied: pandas>=0.24 in /opt/conda/envs/Python-RT23.1/lib/python3.10/site-packages (from yfinance==0.1.67) (1.5.3)\nRequirement already satisfied: numpy>=1.15 in /opt/conda/envs/Python-RT23.1/lib/python3.10/site-packages (from yfinance==0.1.67) (1.23.5)\nRequirement already satisfied: requests>=2.20 in /opt/conda/envs/Python-RT23.1/lib/python3.10/site-packages (from yfinance==0.1.67) (2.31.0)\nRequirement already satisfied: multitasking>=0.0.7 in /opt/conda/envs/Python-RT23.1/lib/python3.10/site-packages (from yfinance==0.1.67) (0.0.11)\nRequirement already satisfied: lxml>=4.5.1 in /opt/conda/envs/Python-RT23.1/lib/python3.10/site-packages (from yfinance==0.1.67) (4.9.2)\nRequirement already satisfied: python-dateutil>=2.8.1 in /opt/conda/envs/Python-RT23.1/lib/python3.10/site-packages (from pandas>=0.24->yfinance==0.1.67) (2.8.2)\nRequirement already satisfied: pytz>=2020.1 in /opt/conda/envs/Python-RT23.1/lib/python3.10/site-packages (from pandas>=0.24->yfinance==0.1.67) (2022.7)\nRequirement already satisfied: charset-normalizer<4,>=2 in /opt/conda/envs/Python-RT23.1/lib/python3.10/site-packages (from requests>=2.20->yfinance==0.1.67) (2.0.4)\nRequirement already satisfied: idna<4,>=2.5 in /opt/conda/envs/Python-RT23.1/lib/python3.10/site-packages (from requests>=2.20->yfinance==0.1.67) (3.4)\nRequirement already satisfied: urllib3<3,>=1.21.1 in /opt/conda/envs/Python-RT23.1/lib/python3.10/site-packages (from requests>=2.20->yfinance==0.1.67) (1.26.18)\nRequirement already satisfied: certifi>=2017.4.17 in /opt/conda/envs/Python-RT23.1/lib/python3.10/site-packages (from requests>=2.20->yfinance==0.1.67) (2024.2.2)\nRequirement already satisfied: six>=1.5 in /opt/conda/envs/Python-RT23.1/lib/python3.10/site-packages (from python-dateutil>=2.8.1->pandas>=0.24->yfinance==0.1.67) (1.16.0)\n\n                  __    __    __    __\n                 /  \\  /  \\  /  \\  /  \\\n                /    \\/    \\/    \\/    \\\n███████████████/  /██/  /██/  /██/  /████████████████████████\n              /  / \\   / \\   / \\   / \\  \\____\n             /  /   \\_/   \\_/   \\_/   \\    o \\__,\n            / _/                       \\_____/  `\n            |/\n        ███╗   ███╗ █████╗ ███╗   ███╗██████╗  █████╗\n        ████╗ ████║██╔══██╗████╗ ████║██╔══██╗██╔══██╗\n        ██╔████╔██║███████║██╔████╔██║██████╔╝███████║\n        ██║╚██╔╝██║██╔══██║██║╚██╔╝██║██╔══██╗██╔══██║\n        ██║ ╚═╝ ██║██║  ██║██║ ╚═╝ ██║██████╔╝██║  ██║\n        ╚═╝     ╚═╝╚═╝  ╚═╝╚═╝     ╚═╝╚═════╝ ╚═╝  ╚═╝\n\n        mamba (1.4.2) supported by @QuantStack\n\n        GitHub:  https://github.com/mamba-org/mamba\n        Twitter: https://twitter.com/QuantStack\n\n█████████████████████████████████████████████████████████████\n\n\nLooking for: ['bs4==4.10.0']\n\n\u001B[?25l\u001B[2K\u001B[0G[+] 0.0s\nopt/ibm/custom-channels/meta-wscloud/linux-64 \u001B[90m━━╸\u001B[0m\u001B[33m━━━━━━━━━━━━━━━╸\u001B[0m\u001B[90m━\u001B[0m   0.0 B  0.0s\nopt/ibm/custom-channels/meta-wscloud/noarch   \u001B[90m━━━━╸\u001B[0m\u001B[33m━━━━━━━━━━━━━━━\u001B[0m   0.0 B  0.0s\u001B[2K\u001B[1A\u001B[2K\u001B[1A\u001B[2K\u001B[0Gopt/ibm/custom-channels/meta-wscloud/linux-64       0.0s\nopt/ibm/custom-channels/meta-wscloud/noarch         0.0s\nopt/ibm/custom-channels/placebo-20230406-noarch/..  ??.?MB @  ??.?MB/s 0 failed  0.0s\nopt/ibm/custom-channels/placebo-20230406-noarch/..   5.9kB @  74.5MB/s  0.0s\n[+] 0.1s\npkgs/main/linux-64 \u001B[90m━━━━╸\u001B[0m\u001B[33m━━━━━━━━━━━━━━━╸\u001B[0m\u001B[90m━━━━\u001B[0m   0.0 B /  ??.?MB @  ??.?MB/s  0.1s\npkgs/main/noarch   \u001B[90m━━━━╸\u001B[0m\u001B[33m━━━━━━━━━━━━━━━╸\u001B[0m\u001B[90m━━━━\u001B[0m   0.0 B /  ??.?MB @  ??.?MB/s  0.1s\u001B[2K\u001B[1A\u001B[2K\u001B[1A\u001B[2K\u001B[0Gpkgs/main/noarch                                              No change\n[+] 0.2s\npkgs/main/linux-64 \u001B[90m━━━━━━╸\u001B[0m\u001B[33m━━━━━━━━━━━━━━━╸\u001B[0m\u001B[90m━━\u001B[0m   0.0 B /  ??.?MB @  ??.?MB/s  0.2s\u001B[2K\u001B[1A\u001B[2K\u001B[0G[+] 0.3s\npkgs/main/linux-64 \u001B[90m━━━━━━╸\u001B[0m\u001B[33m━━━━━━━━━━━━━━━╸\u001B[0m\u001B[90m━━\u001B[0m   0.0 B /  ??.?MB @  ??.?MB/s  0.3s\u001B[2K\u001B[1A\u001B[2K\u001B[0G[+] 0.4s\npkgs/main/linux-64 \u001B[90m━━━━━━╸\u001B[0m\u001B[33m━━━━━━━━━━━━━━━╸\u001B[0m\u001B[90m━━\u001B[0m   0.0 B /  ??.?MB @  ??.?MB/s  0.4s\u001B[2K\u001B[1A\u001B[2K\u001B[0G[+] 0.5s\npkgs/main/linux-64 \u001B[90m━━━━━━╸\u001B[0m\u001B[33m━━━━━━━━━━━━━━━╸\u001B[0m\u001B[90m━━\u001B[0m   0.0 B /  ??.?MB @  ??.?MB/s  0.5s\u001B[2K\u001B[1A\u001B[2K\u001B[0G[+] 0.6s\npkgs/main/linux-64 \u001B[90m━━━━━━╸\u001B[0m\u001B[33m━━━━━━━━━━━━━━━╸\u001B[0m\u001B[90m━━\u001B[0m   0.0 B /  ??.?MB @  ??.?MB/s  0.6s\u001B[2K\u001B[1A\u001B[2K\u001B[0G[+] 0.7s\npkgs/main/linux-64 \u001B[90m━━━━━━╸\u001B[0m\u001B[33m━━━━━━━━━━━━━━━╸\u001B[0m\u001B[90m━━\u001B[0m   0.0 B /  ??.?MB @  ??.?MB/s  0.7s\u001B[2K\u001B[1A\u001B[2K\u001B[0G[+] 0.8s\npkgs/main/linux-64 \u001B[90m━━━━━━╸\u001B[0m\u001B[33m━━━━━━━━━━━━━━━╸\u001B[0m\u001B[90m━━\u001B[0m   0.0 B /  ??.?MB @  ??.?MB/s  0.8s\u001B[2K\u001B[1A\u001B[2K\u001B[0G[+] 0.9s\npkgs/main/linux-64 \u001B[90m━━━━━━╸\u001B[0m\u001B[33m━━━━━━━━━━━━━━━╸\u001B[0m\u001B[90m━━\u001B[0m   0.0 B /  ??.?MB @  ??.?MB/s  0.9s\u001B[2K\u001B[1A\u001B[2K\u001B[0G[+] 1.0s\npkgs/main/linux-64 \u001B[90m━━━━━━╸\u001B[0m\u001B[33m━━━━━━━━━━━━━━━╸\u001B[0m\u001B[90m━━\u001B[0m   0.0 B /  ??.?MB @  ??.?MB/s  1.0s\u001B[2K\u001B[1A\u001B[2K\u001B[0G[+] 1.1s\npkgs/main/linux-64 \u001B[90m━━━━━━╸\u001B[0m\u001B[33m━━━━━━━━━━━━━━━╸\u001B[0m\u001B[90m━━\u001B[0m   0.0 B /  ??.?MB @  ??.?MB/s  1.1s\u001B[2K\u001B[1A\u001B[2K\u001B[0G[+] 1.2s\npkgs/main/linux-64 \u001B[90m━━━━━━╸\u001B[0m\u001B[33m━━━━━━━━━━━━━━━╸\u001B[0m\u001B[90m━━\u001B[0m   0.0 B /  ??.?MB @  ??.?MB/s  1.2s\u001B[2K\u001B[1A\u001B[2K\u001B[0G[+] 1.3s\npkgs/main/linux-64 \u001B[90m━━━━━━╸\u001B[0m\u001B[33m━━━━━━━━━━━━━━━╸\u001B[0m\u001B[90m━━\u001B[0m   0.0 B /  ??.?MB @  ??.?MB/s  1.3s\u001B[2K\u001B[1A\u001B[2K\u001B[0G[+] 1.4s\npkgs/main/linux-64 \u001B[90m━━━━━━╸\u001B[0m\u001B[33m━━━━━━━━━━━━━━━╸\u001B[0m\u001B[90m━━\u001B[0m   0.0 B /  ??.?MB @  ??.?MB/s  1.4s\u001B[2K\u001B[1A\u001B[2K\u001B[0G[+] 1.5s\npkgs/main/linux-64 \u001B[90m━━━━━━╸\u001B[0m\u001B[33m━━━━━━━━━━━━━━━╸\u001B[0m\u001B[90m━━\u001B[0m   0.0 B /  ??.?MB @  ??.?MB/s  1.5s\u001B[2K\u001B[1A\u001B[2K\u001B[0G[+] 1.6s\npkgs/main/linux-64 \u001B[90m━━━━━━╸\u001B[0m\u001B[33m━━━━━━━━━━━━━━━╸\u001B[0m\u001B[90m━━\u001B[0m   0.0 B /  ??.?MB @  ??.?MB/s  1.6s\u001B[2K\u001B[1A\u001B[2K\u001B[0G[+] 1.7s\npkgs/main/linux-64 \u001B[90m━━━━━━╸\u001B[0m\u001B[33m━━━━━━━━━━━━━━━╸\u001B[0m\u001B[90m━━\u001B[0m   0.0 B /  ??.?MB @  ??.?MB/s  1.7s\u001B[2K\u001B[1A\u001B[2K\u001B[0G[+] 1.8s\npkgs/main/linux-64 \u001B[90m━━━━━━╸\u001B[0m\u001B[33m━━━━━━━━━━━━━━━╸\u001B[0m\u001B[90m━━\u001B[0m   0.0 B /  ??.?MB @  ??.?MB/s  1.8s\u001B[2K\u001B[1A\u001B[2K\u001B[0G[+] 1.9s\npkgs/main/linux-64 \u001B[90m━━━━━━╸\u001B[0m\u001B[33m━━━━━━━━━━━━━━━╸\u001B[0m\u001B[90m━━\u001B[0m   0.0 B /  ??.?MB @  ??.?MB/s  1.9s\u001B[2K\u001B[1A\u001B[2K\u001B[0G[+] 2.0s\npkgs/main/linux-64 \u001B[90m━━━━━━╸\u001B[0m\u001B[33m━━━━━━━━━━━━━━━╸\u001B[0m\u001B[90m━━\u001B[0m   0.0 B /  ??.?MB @  ??.?MB/s  2.0s\u001B[2K\u001B[1A\u001B[2K\u001B[0Gpkgs/main/linux-64                                            No change\n\u001B[?25h\nPinned packages:\n  - python 3.10.*\n  - python 3.10.*\n  - widgetsnbextension 4.0.5.*\n\n\nTransaction\n\n  Prefix: /opt/conda/envs/Python-RT23.1\n\n  All requested packages already installed\n\n\u001B[?25l\u001B[2K\u001B[0G\u001B[?25hRequirement already satisfied: nbformat==4.2.0 in /opt/conda/envs/Python-RT23.1/lib/python3.10/site-packages (4.2.0)\nRequirement already satisfied: ipython-genutils in /opt/conda/envs/Python-RT23.1/lib/python3.10/site-packages (from nbformat==4.2.0) (0.2.0)\nRequirement already satisfied: jsonschema!=2.5.0,>=2.4 in /opt/conda/envs/Python-RT23.1/lib/python3.10/site-packages (from nbformat==4.2.0) (4.17.3)\nRequirement already satisfied: jupyter-core in /opt/conda/envs/Python-RT23.1/lib/python3.10/site-packages (from nbformat==4.2.0) (5.3.0)\nRequirement already satisfied: traitlets>=4.1 in /opt/conda/envs/Python-RT23.1/lib/python3.10/site-packages (from nbformat==4.2.0) (5.7.1)\nRequirement already satisfied: attrs>=17.4.0 in /opt/conda/envs/Python-RT23.1/lib/python3.10/site-packages (from jsonschema!=2.5.0,>=2.4->nbformat==4.2.0) (23.1.0)\nRequirement already satisfied: pyrsistent!=0.17.0,!=0.17.1,!=0.17.2,>=0.14.0 in /opt/conda/envs/Python-RT23.1/lib/python3.10/site-packages (from jsonschema!=2.5.0,>=2.4->nbformat==4.2.0) (0.18.0)\nRequirement already satisfied: platformdirs>=2.5 in /opt/conda/envs/Python-RT23.1/lib/python3.10/site-packages (from jupyter-core->nbformat==4.2.0) (2.5.2)\n",
     "name": "stdout"
    }
   ]
  },
  {
   "metadata": {},
   "cell_type": "code",
   "source": [
    "import yfinance as yf\n",
    "import pandas as pd\n",
    "import requests\n",
    "from bs4 import BeautifulSoup\n",
    "import plotly.graph_objects as go\n",
    "from plotly.subplots import make_subplots"
   ],
   "execution_count": 10,
   "outputs": []
  },
  {
   "metadata": {},
   "cell_type": "markdown",
   "source": [
    "In Python, you can ignore warnings using the warnings module. You can use the filterwarnings function to filter or ignore specific warning messages or categories.\n"
   ]
  },
  {
   "metadata": {},
   "cell_type": "code",
   "source": [
    "import warnings\n",
    "# Ignore all warnings\n",
    "warnings.filterwarnings(\"ignore\", category=FutureWarning)"
   ],
   "execution_count": 11,
   "outputs": []
  },
  {
   "metadata": {},
   "cell_type": "markdown",
   "source": [
    "## Define Graphing Function\n"
   ]
  },
  {
   "metadata": {},
   "cell_type": "markdown",
   "source": [
    "In this section, we define the function `make_graph`. You don't have to know how the function works, you should only care about the inputs. It takes a dataframe with stock data (dataframe must contain Date and Close columns), a dataframe with revenue data (dataframe must contain Date and Revenue columns), and the name of the stock.\n"
   ]
  },
  {
   "metadata": {},
   "cell_type": "code",
   "source": [
    "def make_graph(stock_data, revenue_data, stock):\n",
    "    fig = make_subplots(rows=2, cols=1, shared_xaxes=True, subplot_titles=(\"Historical Share Price\", \"Historical Revenue\"), vertical_spacing = .3)\n",
    "    stock_data_specific = stock_data[stock_data.Date <= '2021--06-14']\n",
    "    revenue_data_specific = revenue_data[revenue_data.Date <= '2021-04-30']\n",
    "    fig.add_trace(go.Scatter(x=pd.to_datetime(stock_data_specific.Date, infer_datetime_format=True), y=stock_data_specific.Close.astype(\"float\"), name=\"Share Price\"), row=1, col=1)\n",
    "    fig.add_trace(go.Scatter(x=pd.to_datetime(revenue_data_specific.Date, infer_datetime_format=True), y=revenue_data_specific.Revenue.astype(\"float\"), name=\"Revenue\"), row=2, col=1)\n",
    "    fig.update_xaxes(title_text=\"Date\", row=1, col=1)\n",
    "    fig.update_xaxes(title_text=\"Date\", row=2, col=1)\n",
    "    fig.update_yaxes(title_text=\"Price ($US)\", row=1, col=1)\n",
    "    fig.update_yaxes(title_text=\"Revenue ($US Millions)\", row=2, col=1)\n",
    "    fig.update_layout(showlegend=False,\n",
    "    height=900,\n",
    "    title=stock,\n",
    "    xaxis_rangeslider_visible=True)\n",
    "    fig.show()"
   ],
   "execution_count": 12,
   "outputs": []
  },
  {
   "metadata": {},
   "cell_type": "markdown",
   "source": [
    "## Question 1: Use yfinance to Extract Stock Data\n"
   ]
  },
  {
   "metadata": {},
   "cell_type": "markdown",
   "source": [
    "Using the `Ticker` function enter the ticker symbol of the stock we want to extract data on to create a ticker object. The stock is Tesla and its ticker symbol is `TSLA`.\n"
   ]
  },
  {
   "metadata": {},
   "cell_type": "code",
   "source": [
    "import yfinance as yf\n",
    "tesla=yf.Ticker(\"TSLA\")\n"
   ],
   "execution_count": 13,
   "outputs": []
  },
  {
   "metadata": {},
   "cell_type": "markdown",
   "source": [
    "Using the ticker object and the function `history` extract stock information and save it in a dataframe named `tesla_data`. Set the `period` parameter to `max` so we get information for the maximum amount of time.\n"
   ]
  },
  {
   "metadata": {
    "ExecuteTime": {
     "end_time": "2024-03-20T06:16:20.783742900Z",
     "start_time": "2024-03-20T06:16:17.514577600Z"
    }
   },
   "cell_type": "code",
   "source": [
    "import yfinance as yf\n",
    "tesla=yf.Ticker(\"TSLA\")\n",
    "tesla_data = tesla.history(period = \"max\")\n",
    "print(tesla_data)"
   ],
   "execution_count": 1,
   "outputs": [
    {
     "name": "stdout",
     "output_type": "stream",
     "text": [
      "                                 Open        High         Low       Close  \\\n",
      "Date                                                                        \n",
      "2010-06-29 00:00:00-04:00    1.266667    1.666667    1.169333    1.592667   \n",
      "2010-06-30 00:00:00-04:00    1.719333    2.028000    1.553333    1.588667   \n",
      "2010-07-01 00:00:00-04:00    1.666667    1.728000    1.351333    1.464000   \n",
      "2010-07-02 00:00:00-04:00    1.533333    1.540000    1.247333    1.280000   \n",
      "2010-07-06 00:00:00-04:00    1.333333    1.333333    1.055333    1.074000   \n",
      "...                               ...         ...         ...         ...   \n",
      "2024-03-13 00:00:00-04:00  173.050003  176.050003  169.149994  169.479996   \n",
      "2024-03-14 00:00:00-04:00  167.770004  171.169998  160.509995  162.500000   \n",
      "2024-03-15 00:00:00-04:00  163.160004  165.179993  160.759995  163.570007   \n",
      "2024-03-18 00:00:00-04:00  170.020004  174.720001  165.899994  173.800003   \n",
      "2024-03-19 00:00:00-04:00  172.360001  172.820007  167.419998  171.320007   \n",
      "\n",
      "                              Volume  Dividends  Stock Splits  \n",
      "Date                                                           \n",
      "2010-06-29 00:00:00-04:00  281494500        0.0           0.0  \n",
      "2010-06-30 00:00:00-04:00  257806500        0.0           0.0  \n",
      "2010-07-01 00:00:00-04:00  123282000        0.0           0.0  \n",
      "2010-07-02 00:00:00-04:00   77097000        0.0           0.0  \n",
      "2010-07-06 00:00:00-04:00  103003500        0.0           0.0  \n",
      "...                              ...        ...           ...  \n",
      "2024-03-13 00:00:00-04:00  106524500        0.0           0.0  \n",
      "2024-03-14 00:00:00-04:00  126325700        0.0           0.0  \n",
      "2024-03-15 00:00:00-04:00   96971900        0.0           0.0  \n",
      "2024-03-18 00:00:00-04:00  108214400        0.0           0.0  \n",
      "2024-03-19 00:00:00-04:00   77051900        0.0           0.0  \n",
      "\n",
      "[3454 rows x 7 columns]\n"
     ]
    }
   ]
  },
  {
   "metadata": {},
   "cell_type": "markdown",
   "source": [
    "**Reset the index** using the `reset_index(inplace=True)` function on the tesla_data DataFrame and display the first five rows of the `tesla_data` dataframe using the `head` function. Take a screenshot of the results and code from the beginning of Question 1 to the results below.\n"
   ]
  },
  {
   "metadata": {},
   "cell_type": "code",
   "source": [
    "import yfinance as yf\n",
    "tesla=yf.Ticker(\"TSLA\")\n",
    "tesla_data = tesla.histry(period = \"max\")\n",
    "tesla_data.reset_index(inplace=True)\n",
    "print(tesla_data.head())"
   ],
   "execution_count": null,
   "outputs": []
  },
  {
   "metadata": {},
   "cell_type": "markdown",
   "source": [
    "## Question 2: Use Webscraping to Extract Tesla Revenue Data\n"
   ]
  },
  {
   "metadata": {},
   "cell_type": "markdown",
   "source": [
    "Use the `requests` library to download the webpage https://cf-courses-data.s3.us.cloud-object-storage.appdomain.cloud/IBMDeveloperSkillsNetwork-PY0220EN-SkillsNetwork/labs/project/revenue.htm Save the text of the response as a variable named `html_data`.\n"
   ]
  },
  {
   "metadata": {},
   "cell_type": "code",
   "source": [
    "import requests\n",
    "url = \"https://cf-courses-data.s3.us.cloud-object-storage.appdomain.cloud/IBMDeveloperSkillsNetwork-PY0220EN-SkillsNetwork/labs/project/revenue.htm\"\n",
    "\n",
    "\n",
    "response = requests.get(url)\n",
    "\n",
    "\n",
    "if response.status_code == 200:\n",
    "    html_data = response.text\n",
    "    print(\"Webpage downloaded successfully!\")\n",
    "else:\n",
    "    print(\"Failed to download webpage. Status code:\", response.status_code)\n"
   ],
   "execution_count": null,
   "outputs": []
  },
  {
   "metadata": {},
   "cell_type": "markdown",
   "source": [
    "Parse the html data using `beautiful_soup`.\n"
   ]
  },
  {
   "metadata": {},
   "cell_type": "code",
   "source": [
    "From bs4 import BeautifulSoup as bs\n",
    "soup=bs.parser(html_data,'html5lib')"
   ],
   "execution_count": null,
   "outputs": []
  },
  {
   "metadata": {},
   "cell_type": "markdown",
   "source": [
    "Using `BeautifulSoup` or the `read_html` function extract the table with `Tesla Revenue` and store it into a dataframe named `tesla_revenue`. The dataframe should have columns `Date` and `Revenue`.\n"
   ]
  },
  {
   "metadata": {},
   "cell_type": "markdown",
   "source": [
    "<details><summary>Click here if you need help locating the table</summary>\n",
    "\n",
    "```\n",
    "    \n",
    "Below is the code to isolate the table, you will now need to loop through the rows and columns like in the previous lab\n",
    "    \n",
    "soup.find_all(\"tbody\")[1]\n",
    "    \n",
    "If you want to use the read_html function the table is located at index 1\n",
    "\n",
    "We are focusing on quarterly revenue in the lab.\n",
    "```\n",
    "\n",
    "</details>\n"
   ]
  },
  {
   "metadata": {},
   "cell_type": "code",
   "source": [
    "import panadas as pd\n",
    "dfs= pd.read_html(html_data)"
   ],
   "execution_count": null,
   "outputs": []
  },
  {
   "metadata": {},
   "cell_type": "markdown",
   "source": [
    "Execute the following line to remove the comma and dollar sign from the `Revenue` column. \n"
   ]
  },
  {
   "metadata": {},
   "cell_type": "code",
   "source": [
    "tesla_revenue[\"Revenue\"] = tesla_revenue['Revenue'].str.replace(',|\\$',\"\")"
   ],
   "execution_count": null,
   "outputs": []
  },
  {
   "metadata": {},
   "cell_type": "markdown",
   "source": [
    "Execute the following lines to remove an null or empty strings in the Revenue column.\n"
   ]
  },
  {
   "metadata": {},
   "cell_type": "code",
   "source": [
    "tesla_revenue.dropna(inplace=True)\n",
    "\n",
    "tesla_revenue = tesla_revenue[tesla_revenue['Revenue'] != \"\"]"
   ],
   "execution_count": null,
   "outputs": []
  },
  {
   "metadata": {},
   "cell_type": "markdown",
   "source": [
    "Display the last 5 row of the `tesla_revenue` dataframe using the `tail` function. Take a screenshot of the results.\n"
   ]
  },
  {
   "metadata": {},
   "cell_type": "code",
   "source": [
    "print(tesla_revenue.tail())"
   ],
   "execution_count": null,
   "outputs": []
  },
  {
   "metadata": {},
   "cell_type": "markdown",
   "source": [
    "## Question 3: Use yfinance to Extract Stock Data\n"
   ]
  },
  {
   "metadata": {},
   "cell_type": "markdown",
   "source": [
    "Using the `Ticker` function enter the ticker symbol of the stock we want to extract data on to create a ticker object. The stock is GameStop and its ticker symbol is `GME`.\n"
   ]
  },
  {
   "metadata": {},
   "cell_type": "code",
   "source": [
    "import yfinance as yf\n",
    "gamestop=yf.Ticker(\"GME\")"
   ],
   "execution_count": null,
   "outputs": []
  },
  {
   "metadata": {},
   "cell_type": "markdown",
   "source": [
    "Using the ticker object and the function `history` extract stock information and save it in a dataframe named `gme_data`. Set the `period` parameter to `max` so we get information for the maximum amount of time.\n"
   ]
  },
  {
   "metadata": {},
   "cell_type": "code",
   "source": [
    "gme_data=gamestop.history(period= \"max\")\n",
    "print(gme_data)"
   ],
   "execution_count": null,
   "outputs": []
  },
  {
   "metadata": {},
   "cell_type": "markdown",
   "source": [
    "**Reset the index** using the `reset_index(inplace=True)` function on the gme_data DataFrame and display the first five rows of the `gme_data` dataframe using the `head` function. Take a screenshot of the results and code from the beginning of Question 3 to the results below.\n"
   ]
  },
  {
   "metadata": {},
   "cell_type": "code",
   "source": [
    "gme_data.reset_index(inplace=True)\n",
    "print(gme_data.head())"
   ],
   "execution_count": null,
   "outputs": []
  },
  {
   "metadata": {},
   "cell_type": "markdown",
   "source": [
    "## Question 4: Use Webscraping to Extract GME Revenue Data\n"
   ]
  },
  {
   "metadata": {},
   "cell_type": "markdown",
   "source": [
    "Use the `requests` library to download the webpage https://cf-courses-data.s3.us.cloud-object-storage.appdomain.cloud/IBMDeveloperSkillsNetwork-PY0220EN-SkillsNetwork/labs/project/stock.html. Save the text of the response as a variable named `html_data`.\n"
   ]
  },
  {
   "metadata": {},
   "cell_type": "code",
   "source": [
    "import requests\n",
    "\n",
    "url = \"https://cf-courses-data.s3.us.cloud-object-storage.appdomain.cloud/IBMDeveloperSkillsNetwork-PY0220EN-SkillsNetwork/labs/project/stock.html\"\n",
    "\n",
    "response = requests.get(url)\n",
    "\n",
    "\n",
    "if response.status_code == 200:\n",
    "\n",
    "    html_data = response.text\n",
    "    print(\"Webpage downloaded successfully!\")\n",
    "else:\n",
    "    print(\"Failed to download webpage. Status code:\", response.status_code)"
   ],
   "execution_count": null,
   "outputs": []
  },
  {
   "metadata": {},
   "cell_type": "markdown",
   "source": [
    "Parse the html data using `beautiful_soup`.\n"
   ]
  },
  {
   "metadata": {},
   "cell_type": "code",
   "source": [
    "from bs4 import BeautifulSoup\n",
    "\n",
    "soup = BeautifulSoup(html_data, 'html5lib')"
   ],
   "execution_count": null,
   "outputs": []
  },
  {
   "metadata": {},
   "cell_type": "markdown",
   "source": [
    "Using `BeautifulSoup` or the `read_html` function extract the table with `GameStop Revenue` and store it into a dataframe named `gme_revenue`. The dataframe should have columns `Date` and `Revenue`. Make sure the comma and dollar sign is removed from the `Revenue` column using a method similar to what you did in Question 2.\n"
   ]
  },
  {
   "metadata": {},
   "cell_type": "markdown",
   "source": [
    "<details><summary>Click here if you need help locating the table</summary>\n",
    "\n",
    "```\n",
    "    \n",
    "Below is the code to isolate the table, you will now need to loop through the rows and columns like in the previous lab\n",
    "    \n",
    "soup.find_all(\"tbody\")[1]\n",
    "    \n",
    "If you want to use the read_html function the table is located at index 1\n",
    "\n",
    "\n",
    "```\n",
    "\n",
    "</details>\n"
   ]
  },
  {
   "metadata": {},
   "cell_type": "code",
   "source": [
    "from bs4 import BeautifulSoup\n",
    "import pandas as pd\n",
    "\n",
    "# Parse the HTML data using BeautifulSoup with html5lib parser\n",
    "soup = BeautifulSoup(html_data, 'html5lib')\n",
    "\n",
    "# Isolate the table using the provided code snippet\n",
    "table = soup.find_all(\"tbody\")[1]\n",
    "\n",
    "# Extract data from the table and store it into a list of dictionaries\n",
    "data = []\n",
    "for row in table.find_all(\"tr\"):\n",
    "    cols = row.find_all(\"td\")\n",
    "    date = cols[0].text.strip()\n",
    "    revenue = cols[1].text.strip().replace(',', '').replace('$', '')\n",
    "    data.append({\"Date\": date, \"Revenue\": revenue})\n",
    "\n",
    "# Create a DataFrame from the list of dictionaries\n",
    "gme_revenue = pd.DataFrame(data)\n",
    "\n",
    "# Display the DataFrame\n",
    "print(gme_revenue)\n"
   ],
   "execution_count": null,
   "outputs": []
  },
  {
   "metadata": {},
   "cell_type": "markdown",
   "source": [
    "Display the last five rows of the `gme_revenue` dataframe using the `tail` function. Take a screenshot of the results.\n"
   ]
  },
  {
   "metadata": {},
   "cell_type": "code",
   "source": [
    "print(gme_revenue.tail())"
   ],
   "execution_count": null,
   "outputs": []
  },
  {
   "metadata": {},
   "cell_type": "markdown",
   "source": [
    "## Question 5: Plot Tesla Stock Graph\n"
   ]
  },
  {
   "metadata": {},
   "cell_type": "markdown",
   "source": [
    "Use the `make_graph` function to graph the Tesla Stock Data, also provide a title for the graph. The structure to call the `make_graph` function is `make_graph(tesla_data, tesla_revenue, 'Tesla')`. Note the graph will only show data upto June 2021.\n"
   ]
  },
  {
   "metadata": {},
   "cell_type": "code",
   "source": [
    "make_graph(tesla_data, tesla_revenue, 'Tesla')"
   ],
   "execution_count": null,
   "outputs": []
  },
  {
   "metadata": {},
   "cell_type": "markdown",
   "source": [
    "## Question 6: Plot GameStop Stock Graph\n"
   ]
  },
  {
   "metadata": {},
   "cell_type": "markdown",
   "source": [
    "Use the `make_graph` function to graph the GameStop Stock Data, also provide a title for the graph. The structure to call the `make_graph` function is `make_graph(gme_data, gme_revenue, 'GameStop')`. Note the graph will only show data upto June 2021.\n"
   ]
  },
  {
   "metadata": {},
   "cell_type": "code",
   "source": [
    "make_graph(gme_data, gme_revenue, 'GameStop')"
   ],
   "execution_count": null,
   "outputs": []
  },
  {
   "metadata": {},
   "cell_type": "markdown",
   "source": [
    "<h2>About the Authors:</h2> \n",
    "\n",
    "<a href=\"https://www.linkedin.com/in/joseph-s-50398b136/\">Joseph Santarcangelo</a> has a PhD in Electrical Engineering, his research focused on using machine learning, signal processing, and computer vision to determine how videos impact human cognition. Joseph has been working for IBM since he completed his PhD.\n",
    "\n",
    "Azim Hirjani\n"
   ]
  },
  {
   "metadata": {},
   "cell_type": "markdown",
   "source": [
    "## Change Log\n",
    "\n",
    "| Date (YYYY-MM-DD) | Version | Changed By    | Change Description        |\n",
    "| ----------------- | ------- | ------------- | ------------------------- |\n",
    "| 2022-02-28        | 1.2     | Lakshmi Holla | Changed the URL of GameStop |\n",
    "| 2020-11-10        | 1.1     | Malika Singla | Deleted the Optional part |\n",
    "| 2020-08-27        | 1.0     | Malika Singla | Added lab to GitLab       |\n",
    "\n",
    "<hr>\n",
    "\n",
    "## <h3 align=\"center\"> © IBM Corporation 2020. All rights reserved. <h3/>\n",
    "\n",
    "<p>\n"
   ]
  }
 ],
 "metadata": {
  "kernelspec": {
   "name": "python3",
   "display_name": "Python 3.10",
   "language": "python"
  },
  "language_info": {
   "name": "python",
   "version": "3.10.13",
   "mimetype": "text/x-python",
   "codemirror_mode": {
    "name": "ipython",
    "version": 3
   },
   "pygments_lexer": "ipython3",
   "nbconvert_exporter": "python",
   "file_extension": ".py"
  }
 },
 "nbformat": 4,
 "nbformat_minor": 4
}
